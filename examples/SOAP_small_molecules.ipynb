{
 "cells": [
  {
   "cell_type": "markdown",
   "metadata": {},
   "source": [
    "To install rascal:\n",
    "(NOTE: See the top-level README for the most up-to-date installation instructions.)\n",
    "+ mkdir ../build \n",
    "+ cd build\n",
    "+ cmake -DCMAKE_BUILD_TYPE=Release -DBUILD_TESTS=ON ..\n",
    "+ make -j 4\n",
    "+ make install"
   ]
  },
  {
   "cell_type": "code",
   "execution_count": 1,
   "metadata": {},
   "outputs": [],
   "source": [
    "!export OMP_NUM_THREADS=1\n",
    "!export NUMBA_THREADING_LAYER=1\n",
    "from mkl import set_num_threads\n",
    "set_num_threads(1)"
   ]
  },
  {
   "cell_type": "code",
   "execution_count": 2,
   "metadata": {},
   "outputs": [],
   "source": [
    "%matplotlib notebook\n",
    "from matplotlib import pylab as plt\n",
    "\n",
    "import os, sys\n",
    "from ase.io import read\n",
    "sys.path.insert(0,\"../build/\")\n",
    "\n",
    "import sys\n",
    "import time\n",
    "import rascal\n",
    "import json\n",
    "\n",
    "import ase\n",
    "from ase.io import read, write\n",
    "from ase.build import make_supercell\n",
    "from ase.visualize import view\n",
    "import numpy as np\n",
    "import sys\n",
    "\n",
    "import json\n",
    "\n",
    "from rascal.representations import SphericalInvariants as SOAP\n",
    "from rascal.models import Kernel"
   ]
  },
  {
   "cell_type": "code",
   "execution_count": 3,
   "metadata": {},
   "outputs": [],
   "source": [
    "frames = read('../reference_data/inputs/small_molecules-1000.xyz',':100')"
   ]
  },
  {
   "cell_type": "markdown",
   "metadata": {},
   "source": [
    "# SOAP: Power spectrum"
   ]
  },
  {
   "cell_type": "code",
   "execution_count": 3,
   "metadata": {
    "code_folding": []
   },
   "outputs": [],
   "source": [
    "hypers = dict(soap_type=\"PowerSpectrum\",\n",
    "              interaction_cutoff=3.5, \n",
    "              max_radial=6, \n",
    "              max_angular=4, \n",
    "              gaussian_sigma_constant=0.4,\n",
    "              gaussian_sigma_type=\"Constant\",\n",
    "              cutoff_smooth_width=0.5,\n",
    "              normalize=True,\n",
    "              )\n",
    "soap = SOAP(**hypers)\n",
    "zeta=2\n",
    "kernel1 = Kernel(soap, zeta=zeta, target_type='Atom')"
   ]
  },
  {
   "cell_type": "code",
   "execution_count": 4,
   "metadata": {},
   "outputs": [],
   "source": [
    "Xs = []\n",
    "for frame in frames:\n",
    "    representation = soap.transform([frame])\n",
    "    X = representation.get_features(soap, species=[1, 6, 7, 8])\n",
    "    Xs.append(X)"
   ]
  },
  {
   "cell_type": "code",
   "execution_count": 5,
   "metadata": {},
   "outputs": [
    {
     "name": "stdout",
     "output_type": "stream",
     "text": [
      "CPU times: user 1min 1s, sys: 0 ns, total: 1min 1s\n",
      "Wall time: 1min 1s\n"
     ]
    }
   ],
   "source": [
    "%%time\n",
    "for ii,X in enumerate(Xs):\n",
    "    for jj,Y in enumerate(Xs):\n",
    "        # if jj < ii: continue\n",
    "        aa = np.sum(np.power(np.dot(X, Y.T), zeta))"
   ]
  },
  {
   "cell_type": "code",
   "execution_count": 6,
   "metadata": {},
   "outputs": [],
   "source": [
    "representation = soap.transform(frames)\n",
    "X = representation.get_features(soap)"
   ]
  },
  {
   "cell_type": "code",
   "execution_count": 7,
   "metadata": {},
   "outputs": [
    {
     "name": "stdout",
     "output_type": "stream",
     "text": [
      "CPU times: user 25.5 s, sys: 3.18 s, total: 28.7 s\n",
      "Wall time: 8.2 s\n"
     ]
    }
   ],
   "source": [
    "%%time \n",
    "kk = np.power(np.dot(X, X.T), zeta)"
   ]
  },
  {
   "cell_type": "code",
   "execution_count": 21,
   "metadata": {
    "collapsed": true
   },
   "outputs": [
    {
     "name": "stdout",
     "output_type": "stream",
     "text": [
      "CPU times: user 4.19 s, sys: 7.93 ms, total: 4.2 s\n",
      "Wall time: 4.2 s\n"
     ]
    },
    {
     "data": {
      "text/plain": [
       "array([[1.        , 0.00472567, 0.11009869, ..., 0.04595198, 0.04978086,\n",
       "        0.03560331],\n",
       "       [0.00472567, 1.        , 0.11667004, ..., 0.05571336, 0.06607319,\n",
       "        0.04509975],\n",
       "       [0.11009869, 0.11667004, 1.        , ..., 0.05723611, 0.06780385,\n",
       "        0.06020636],\n",
       "       ...,\n",
       "       [0.04595198, 0.05571336, 0.05723611, ..., 1.        , 0.85119125,\n",
       "        0.84384698],\n",
       "       [0.04978086, 0.06607319, 0.06780385, ..., 0.85119125, 1.        ,\n",
       "        0.84252262],\n",
       "       [0.03560331, 0.04509975, 0.06020636, ..., 0.84384698, 0.84252262,\n",
       "        1.        ]])"
      ]
     },
     "execution_count": 21,
     "metadata": {},
     "output_type": "execute_result"
    }
   ],
   "source": [
    "%time kernel1(representation)"
   ]
  },
  {
   "cell_type": "code",
   "execution_count": 4,
   "metadata": {},
   "outputs": [],
   "source": [
    "hypers = dict(soap_type=\"PowerSpectrum\",\n",
    "              interaction_cutoff=3.5, \n",
    "              max_radial=6, \n",
    "              max_angular=4, \n",
    "              gaussian_sigma_constant=0.4,\n",
    "              gaussian_sigma_type=\"Constant\",\n",
    "              cutoff_smooth_width=0.5,\n",
    "              expansion_by_species_method='user defined',\n",
    "              normalize=True,\n",
    "              global_species=[1, 6, 7, 8],\n",
    "              )\n",
    "soap = SOAP(**hypers)\n",
    "zeta=2\n",
    "kernel1 = Kernel(soap, zeta=zeta, target_type='Atom')\n",
    "representation = soap.transform(frames)"
   ]
  },
  {
   "cell_type": "code",
   "execution_count": 8,
   "metadata": {},
   "outputs": [
    {
     "name": "stdout",
     "output_type": "stream",
     "text": [
      "CPU times: user 28.1 s, sys: 500 ms, total: 28.6 s\n",
      "Wall time: 28.7 s\n"
     ]
    },
    {
     "data": {
      "text/plain": [
       "array([[1.        , 0.00472567, 0.11009869, ..., 0.04753737, 0.02975926,\n",
       "        0.00890048],\n",
       "       [0.00472567, 1.        , 0.11667004, ..., 0.06367934, 0.02375891,\n",
       "        0.00288407],\n",
       "       [0.11009869, 0.11667004, 1.        , ..., 0.0790658 , 0.03902808,\n",
       "        0.00189056],\n",
       "       ...,\n",
       "       [0.04753737, 0.06367934, 0.0790658 , ..., 1.        , 0.72615537,\n",
       "        0.33178025],\n",
       "       [0.02975926, 0.02375891, 0.03902808, ..., 0.72615537, 1.        ,\n",
       "        0.46487243],\n",
       "       [0.00890048, 0.00288407, 0.00189056, ..., 0.33178025, 0.46487243,\n",
       "        1.        ]])"
      ]
     },
     "execution_count": 8,
     "metadata": {},
     "output_type": "execute_result"
    }
   ],
   "source": [
    "%time kernel1(representation)"
   ]
  },
  {
   "cell_type": "code",
   "execution_count": 5,
   "metadata": {},
   "outputs": [
    {
     "data": {
      "text/plain": [
       "True"
      ]
     },
     "execution_count": 5,
     "metadata": {},
     "output_type": "execute_result"
    }
   ],
   "source": [
    "aa = kernel1(representation)\n",
    "bb = kernel1(representation, representation)\n",
    "np.allclose(aa, bb)"
   ]
  },
  {
   "cell_type": "code",
   "execution_count": 13,
   "metadata": {},
   "outputs": [
    {
     "data": {
      "text/plain": [
       "array([[1.        , 0.00472567, 0.11009869, 0.35840026, 0.01889473,\n",
       "        0.36544231, 0.08698729, 0.82470979, 0.06989846, 0.0558029 ],\n",
       "       [0.00472567, 1.        , 0.11667004, 0.05361856, 0.04870066,\n",
       "        0.05328729, 0.10730086, 0.01035052, 0.0314713 , 0.0140616 ],\n",
       "       [0.11009869, 0.11667004, 1.        , 0.52827571, 0.03751435,\n",
       "        0.51922305, 0.60658761, 0.13982755, 0.01909603, 0.00646523],\n",
       "       [0.35840026, 0.05361856, 0.52827571, 1.        , 0.08242616,\n",
       "        0.93518617, 0.48517071, 0.46188971, 0.04831532, 0.02203933],\n",
       "       [0.01889473, 0.04870066, 0.03751435, 0.08242616, 1.        ,\n",
       "        0.09741674, 0.06644332, 0.04759085, 0.03904336, 0.02468563],\n",
       "       [0.36544231, 0.05328729, 0.51922305, 0.93518617, 0.09741674,\n",
       "        1.        , 0.46840516, 0.48956985, 0.03968006, 0.01826398],\n",
       "       [0.08698729, 0.10730086, 0.60658761, 0.48517071, 0.06644332,\n",
       "        0.46840516, 1.        , 0.15431263, 0.03514725, 0.02418615],\n",
       "       [0.82470979, 0.01035052, 0.13982755, 0.46188971, 0.04759085,\n",
       "        0.48956985, 0.15431263, 1.        , 0.07537912, 0.05971553],\n",
       "       [0.06989846, 0.0314713 , 0.01909603, 0.04831532, 0.03904336,\n",
       "        0.03968006, 0.03514725, 0.07537912, 1.        , 0.87958649],\n",
       "       [0.0558029 , 0.0140616 , 0.00646523, 0.02203933, 0.02468563,\n",
       "        0.01826398, 0.02418615, 0.05971553, 0.87958649, 1.        ]])"
      ]
     },
     "execution_count": 13,
     "metadata": {},
     "output_type": "execute_result"
    }
   ],
   "source": [
    "bb[:10,:10]"
   ]
  },
  {
   "cell_type": "code",
   "execution_count": 12,
   "metadata": {},
   "outputs": [
    {
     "data": {
      "text/plain": [
       "array([[1.        , 0.79513757, 0.04532791, 0.47834536, 0.0012243 ,\n",
       "        0.43778697, 0.19340956, 0.56439146, 0.1222456 , 0.44408756,\n",
       "        0.07018829, 0.0709119 , 0.06876686, 0.05238681, 0.0513778 ,\n",
       "        0.05238449, 0.05978511, 0.03541624, 0.04631459, 0.06043754],\n",
       "       [0.79513757, 0.0150889 , 0.16008232, 0.45488497, 0.04276427,\n",
       "        0.49568388, 0.13508786, 0.93383368, 0.07852325, 0.0518483 ,\n",
       "        0.07852126, 0.05382414, 0.0248058 , 0.06384085, 0.0882993 ,\n",
       "        0.08832277, 0.09397047, 0.06247693, 0.0368819 , 0.05036481],\n",
       "       [0.04532791, 0.16008232, 0.46217492, 0.32384483, 0.06699144,\n",
       "        0.30856518, 0.76049812, 0.07782628, 0.04077903, 0.01931466,\n",
       "        0.04077414, 0.04820434, 0.01026047, 0.02640223, 0.02756485,\n",
       "        0.02756594, 0.04872499, 0.08132929, 0.0394965 , 0.04611102],\n",
       "       [0.47834536, 0.45488497, 0.32384483, 0.73711621, 0.09428872,\n",
       "        0.7925445 , 0.36012606, 0.61686045, 0.06818785, 0.03549725,\n",
       "        0.06818157, 0.08505378, 0.0485641 , 0.07334121, 0.06883254,\n",
       "        0.06883288, 0.0981006 , 0.09806201, 0.06344286, 0.08164724],\n",
       "       [0.0012243 , 0.04276427, 0.06699144, 0.09428872, 0.54242257,\n",
       "        0.05022992, 0.11878312, 0.00602257, 0.02912884, 0.01143298,\n",
       "        0.02912536, 0.03851842, 0.03226922, 0.02220624, 0.02657518,\n",
       "        0.02657574, 0.04477213, 0.07032606, 0.07203329, 0.07944576],\n",
       "       [0.43778697, 0.49568388, 0.30856518, 0.7925445 , 0.05022992,\n",
       "        0.77102856, 0.31019484, 0.56332544, 0.0640089 , 0.02694955,\n",
       "        0.06400378, 0.09279641, 0.05306616, 0.08052456, 0.06047395,\n",
       "        0.06048107, 0.08980182, 0.1100392 , 0.07258475, 0.09318357],\n",
       "       [0.19340956, 0.13508786, 0.76049812, 0.36012606, 0.11878312,\n",
       "        0.31019484, 0.59038754, 0.29201929, 0.05495339, 0.02086935,\n",
       "        0.05494641, 0.08717742, 0.03958096, 0.06240826, 0.04926536,\n",
       "        0.04926824, 0.08004624, 0.04799868, 0.04303578, 0.04687284],\n",
       "       [0.56439146, 0.93383368, 0.07782628, 0.61686045, 0.00602257,\n",
       "        0.56332544, 0.29201929, 0.7583012 , 0.08909215, 0.05356099,\n",
       "        0.08908653, 0.07740322, 0.02451814, 0.07842844, 0.09858469,\n",
       "        0.09861039, 0.10825323, 0.06418226, 0.07798666, 0.09496842],\n",
       "       [0.1222456 , 0.07852325, 0.04077903, 0.06818785, 0.02912884,\n",
       "        0.0640089 , 0.05495339, 0.08909215, 0.03097396, 0.02174333,\n",
       "        0.0309724 , 0.03037718, 0.00393531, 0.02129253, 0.02921334,\n",
       "        0.02921626, 0.03733832, 0.5238775 , 0.73525714, 0.72293255],\n",
       "       [0.44408756, 0.0518483 , 0.01931466, 0.03549725, 0.01143298,\n",
       "        0.02694955, 0.02086935, 0.05356099, 0.02174333, 0.01869097,\n",
       "        0.02086371, 0.02516087, 0.00301503, 0.03031639, 0.02634632,\n",
       "        0.02635156, 0.02765154, 0.31832042, 0.6413554 , 0.51934058],\n",
       "       [0.07018829, 0.07852126, 0.04077414, 0.06818157, 0.02912536,\n",
       "        0.06400378, 0.05494641, 0.08908653, 0.0309724 , 0.02086371,\n",
       "        0.88540986, 0.64206289, 0.4439515 , 0.70208421, 0.93915612,\n",
       "        0.93928098, 0.95668174, 0.52385303, 0.73523944, 0.72290464],\n",
       "       [0.0709119 , 0.05382414, 0.04820434, 0.08505378, 0.03851842,\n",
       "        0.09279641, 0.08717742, 0.07740322, 0.03037718, 0.02516087,\n",
       "        0.64206289, 0.64721909, 0.44552972, 0.70441846, 0.93012233,\n",
       "        0.93024686, 0.95488203, 0.75132667, 0.73754533, 0.67032436],\n",
       "       [0.06876686, 0.0248058 , 0.01026047, 0.0485641 , 0.03226922,\n",
       "        0.05306616, 0.03958096, 0.02451814, 0.00393531, 0.00301503,\n",
       "        0.4439515 , 0.44552972, 0.43287607, 0.68479433, 0.96149595,\n",
       "        0.96162995, 0.94969071, 0.53911941, 0.50968383, 0.50227606],\n",
       "       [0.05238681, 0.06384085, 0.02640223, 0.07334121, 0.02220624,\n",
       "        0.08052456, 0.06240826, 0.07842844, 0.02129253, 0.03031639,\n",
       "        0.70208421, 0.70441846, 0.68479433, 0.82822448, 0.81975008,\n",
       "        0.81987686, 0.84830744, 0.77150086, 0.78176246, 0.70831972],\n",
       "       [0.0513778 , 0.0882993 , 0.02756485, 0.06883254, 0.02657518,\n",
       "        0.06047395, 0.04926536, 0.09858469, 0.02921334, 0.02634632,\n",
       "        0.93915612, 0.93012233, 0.96149595, 0.81975008, 0.81425547,\n",
       "        0.81438034, 0.84522904, 0.54131988, 0.82228488, 0.7800369 ],\n",
       "       [0.05238449, 0.08832277, 0.02756594, 0.06883288, 0.02657574,\n",
       "        0.06048107, 0.04926824, 0.09861039, 0.02921626, 0.02635156,\n",
       "        0.93928098, 0.93024686, 0.96162995, 0.81987686, 0.81438034,\n",
       "        0.81833421, 0.85135594, 0.54141884, 0.82229243, 0.78013998],\n",
       "       [0.05978511, 0.09397047, 0.04872499, 0.0981006 , 0.04477213,\n",
       "        0.08980182, 0.08004624, 0.10825323, 0.03733832, 0.02765154,\n",
       "        0.95668174, 0.95488203, 0.94969071, 0.84830744, 0.84522904,\n",
       "        0.85135594, 0.78753452, 0.61454868, 0.88153683, 0.82002351],\n",
       "       [0.03541624, 0.06247693, 0.08132929, 0.09806201, 0.07032606,\n",
       "        0.1100392 , 0.04799868, 0.06418226, 0.5238775 , 0.31832042,\n",
       "        0.52385303, 0.75132667, 0.53911941, 0.77150086, 0.54131988,\n",
       "        0.54141884, 0.61454868, 1.        , 0.77641522, 0.02192313],\n",
       "       [0.04631459, 0.0368819 , 0.0394965 , 0.06344286, 0.07203329,\n",
       "        0.07258475, 0.04303578, 0.07798666, 0.73525714, 0.6413554 ,\n",
       "        0.73523944, 0.73754533, 0.50968383, 0.78176246, 0.82228488,\n",
       "        0.82229243, 0.88153683, 0.77641522, 0.00283132, 0.16993093],\n",
       "       [0.06043754, 0.05036481, 0.04611102, 0.08164724, 0.07944576,\n",
       "        0.09318357, 0.04687284, 0.09496842, 0.72293255, 0.51934058,\n",
       "        0.72290464, 0.67032436, 0.50227606, 0.70831972, 0.7800369 ,\n",
       "        0.78013998, 0.82002351, 0.02192313, 0.16993093, 0.08525622]])"
      ]
     },
     "execution_count": 12,
     "metadata": {},
     "output_type": "execute_result"
    }
   ],
   "source": [
    "aa[:20,:20]"
   ]
  },
  {
   "cell_type": "code",
   "execution_count": 10,
   "metadata": {},
   "outputs": [
    {
     "data": {
      "text/plain": [
       "array([[1.        , 0.79513757, 0.04532791, ..., 0.        , 0.        ,\n",
       "        0.        ],\n",
       "       [0.79513757, 0.0150889 , 0.16008232, ..., 0.        , 0.        ,\n",
       "        0.        ],\n",
       "       [0.04532791, 0.16008232, 0.46217492, ..., 0.        , 0.        ,\n",
       "        0.        ],\n",
       "       ...,\n",
       "       [0.        , 0.        , 0.        , ..., 0.        , 0.        ,\n",
       "        0.        ],\n",
       "       [0.        , 0.        , 0.        , ..., 0.        , 0.        ,\n",
       "        0.        ],\n",
       "       [0.        , 0.        , 0.        , ..., 0.        , 0.        ,\n",
       "        0.        ]])"
      ]
     },
     "execution_count": 10,
     "metadata": {},
     "output_type": "execute_result"
    }
   ],
   "source": [
    "aa"
   ]
  },
  {
   "cell_type": "code",
   "execution_count": 63,
   "metadata": {},
   "outputs": [
    {
     "data": {
      "text/plain": [
       "3.255813953488372"
      ]
     },
     "execution_count": 63,
     "metadata": {},
     "output_type": "execute_result"
    }
   ],
   "source": [
    "140/43. # 900"
   ]
  },
  {
   "cell_type": "code",
   "execution_count": 70,
   "metadata": {},
   "outputs": [
    {
     "data": {
      "text/plain": [
       "3.508771929824561"
      ]
     },
     "execution_count": 70,
     "metadata": {},
     "output_type": "execute_result"
    }
   ],
   "source": [
    "1.8/0.513 #100"
   ]
  },
  {
   "cell_type": "markdown",
   "metadata": {},
   "source": [
    "# Learning the formation energies of small molecules"
   ]
  },
  {
   "cell_type": "code",
   "execution_count": null,
   "metadata": {
    "code_folding": []
   },
   "outputs": [],
   "source": [
    "# Load the small molecules \n",
    "frames = read('../reference_data/inputs/small_molecules-1000.xyz',':600')"
   ]
  },
  {
   "cell_type": "markdown",
   "metadata": {
    "heading_collapsed": true
   },
   "source": [
    "## learning utilities"
   ]
  },
  {
   "cell_type": "code",
   "execution_count": null,
   "metadata": {
    "code_folding": [
     13,
     20,
     31,
     33,
     35,
     37,
     47,
     54
    ],
    "hidden": true
   },
   "outputs": [],
   "source": [
    "def compute_representation(representation,frames):\n",
    "    expansions = soap.transform(frames)\n",
    "    return expansions\n",
    "\n",
    "def compute_kernel(zeta, rep1, rep2=None):\n",
    "    if rep2 is None:\n",
    "        kernel = rep1.cosine_kernel_global(zeta)\n",
    "    else:\n",
    "        kernel = rep1.cosine_kernel_global(rep2,zeta)\n",
    "    return kernel\n",
    "\n",
    "def extract_energy(frames):\n",
    "    prop = [[]]*len(frames)\n",
    "    for ii,cc in enumerate(frames):\n",
    "        prop[ii] = cc.info['dft_formation_energy_per_atom_in_eV']\n",
    "    y = np.array(prop)\n",
    "    return y\n",
    "\n",
    "def split_dataset(frames, test_fraction, seed=10):\n",
    "    N = len(frames)\n",
    "    ids = np.arange(N)\n",
    "    np.random.seed(seed)\n",
    "    np.random.shuffle(ids)\n",
    "    Ntrain = int(N*test_fraction)\n",
    "    train = ids[:Ntrain]\n",
    "    test = ids[Ntrain:]\n",
    "    targets = extract_energy(frames)\n",
    "    return [frames[ii] for ii in train],targets[train],[frames[ii] for ii in test],targets[test]\n",
    "\n",
    "def get_mae(ypred,y):\n",
    "    return np.mean(np.abs(ypred-y))\n",
    "def get_rmse(ypred,y):\n",
    "    return np.sqrt(np.mean((ypred-y)**2))\n",
    "def get_sup(ypred,y):\n",
    "    return np.amax(np.abs((ypred-y)))\n",
    "def get_r2(y_pred,y_true):\n",
    "    weight = 1\n",
    "    sample_weight = None\n",
    "    numerator = (weight * (y_true - y_pred) ** 2).sum(axis=0,dtype=np.float64)\n",
    "    denominator = (weight * (y_true - np.average(\n",
    "        y_true, axis=0, weights=sample_weight)) ** 2).sum(axis=0,dtype=np.float64)\n",
    "    output_scores = 1 - (numerator / denominator)\n",
    "    return np.mean(output_scores)\n",
    "\n",
    "\n",
    "score_func = dict(\n",
    "    MAE=get_mae,\n",
    "    RMSE=get_rmse,\n",
    "    SUP=get_sup,\n",
    "    R2=get_r2,\n",
    ")\n",
    "\n",
    "def get_score(ypred,y):\n",
    "    scores = {}\n",
    "    for k,func in score_func.items():\n",
    "        scores[k] = func(ypred,y)\n",
    "    return scores\n",
    "\n",
    "class KRR(object):\n",
    "    def __init__(self,zeta,weights,representation,X):\n",
    "        self.weights = weights\n",
    "        self.representation = representation\n",
    "        self.zeta = zeta\n",
    "        self.X = X\n",
    "        \n",
    "    def predict(self,frames):\n",
    "        features = compute_representation(self.representation,frames)\n",
    "        kernel = compute_kernel(self.zeta , self.X, features)\n",
    "        return np.dot(self.weights, kernel)\n",
    "    \n",
    "def train_krr_model(zeta,Lambda,representation,frames,y,jitter=1e-8):\n",
    "    features = compute_representation(representation,frames)\n",
    "    kernel = compute_kernel(zeta,features)    \n",
    "    # adjust the kernel so that it is properly scaled\n",
    "    delta = np.std(y) / np.mean(kernel.diagonal())\n",
    "    kernel[np.diag_indices_from(kernel)] += Lambda**2 / delta **2 + jitter\n",
    "    # train the krr model\n",
    "    weights = np.linalg.solve(kernel,y)\n",
    "    model = KRR(zeta, weights,representation, features)\n",
    "    return model,kernel\n",
    "\n"
   ]
  },
  {
   "cell_type": "markdown",
   "metadata": {
    "heading_collapsed": true
   },
   "source": [
    "## With the full power spectrum"
   ]
  },
  {
   "cell_type": "code",
   "execution_count": null,
   "metadata": {
    "hidden": true
   },
   "outputs": [],
   "source": [
    "hypers = dict(soap_type=\"PowerSpectrum\",\n",
    "              interaction_cutoff=3.5, \n",
    "              max_radial=6, \n",
    "              max_angular=6, \n",
    "              gaussian_sigma_constant=0.4,\n",
    "              gaussian_sigma_type=\"Constant\",\n",
    "              cutoff_smooth_width=0.5,\n",
    "              )\n",
    "soap = SOAP(**hypers)"
   ]
  },
  {
   "cell_type": "code",
   "execution_count": null,
   "metadata": {
    "hidden": true
   },
   "outputs": [],
   "source": [
    "frames_train, y_train, frames_test, y_test = split_dataset(frames,0.8)"
   ]
  },
  {
   "cell_type": "code",
   "execution_count": null,
   "metadata": {
    "hidden": true
   },
   "outputs": [],
   "source": [
    "zeta = 2\n",
    "Lambda = 5e-3\n",
    "krr,k = train_krr_model(zeta, Lambda, soap, frames_train, y_train)"
   ]
  },
  {
   "cell_type": "code",
   "execution_count": null,
   "metadata": {
    "hidden": true
   },
   "outputs": [],
   "source": [
    "y_pred = krr.predict(frames_test)\n",
    "get_score(y_pred, y_test)"
   ]
  },
  {
   "cell_type": "code",
   "execution_count": null,
   "metadata": {
    "hidden": true
   },
   "outputs": [],
   "source": [
    "plt.scatter(y_pred, y_test, s=3)\n",
    "plt.axis('scaled')\n",
    "plt.xlabel('DFT energy / (eV/atom)')\n",
    "plt.ylabel('Predicted energy / (eV/atom)')"
   ]
  },
  {
   "cell_type": "markdown",
   "metadata": {
    "heading_collapsed": true
   },
   "source": [
    "## With just the radial spectrum"
   ]
  },
  {
   "cell_type": "code",
   "execution_count": null,
   "metadata": {
    "hidden": true
   },
   "outputs": [],
   "source": [
    "hypers = dict(soap_type=\"RadialSpectrum\",\n",
    "              interaction_cutoff=3.5, \n",
    "              max_radial=6, \n",
    "              max_angular=0, \n",
    "              gaussian_sigma_constant=0.4,\n",
    "              gaussian_sigma_type=\"Constant\",\n",
    "              cutoff_smooth_width=0.5,\n",
    "              )\n",
    "soap = SOAP(**hypers)"
   ]
  },
  {
   "cell_type": "code",
   "execution_count": null,
   "metadata": {
    "hidden": true
   },
   "outputs": [],
   "source": [
    "frames_train, y_train, frames_test, y_test = split_dataset(frames,0.8)"
   ]
  },
  {
   "cell_type": "code",
   "execution_count": null,
   "metadata": {
    "hidden": true
   },
   "outputs": [],
   "source": [
    "zeta = 2\n",
    "Lambda = 5e-4\n",
    "krr,k = train_krr_model(zeta, Lambda, soap, frames_train, y_train)"
   ]
  },
  {
   "cell_type": "code",
   "execution_count": null,
   "metadata": {
    "hidden": true
   },
   "outputs": [],
   "source": [
    "y_pred = krr.predict(frames_test)\n",
    "get_score(y_pred, y_test)"
   ]
  },
  {
   "cell_type": "code",
   "execution_count": null,
   "metadata": {
    "hidden": true
   },
   "outputs": [],
   "source": [
    "plt.scatter(y_pred, y_test, s=3)\n",
    "plt.axis('scaled')\n",
    "plt.xlabel('DFT energy / (eV/atom)')\n",
    "plt.ylabel('Predicted energy / (eV/atom)')"
   ]
  },
  {
   "cell_type": "code",
   "execution_count": null,
   "metadata": {
    "hidden": true
   },
   "outputs": [],
   "source": []
  },
  {
   "cell_type": "markdown",
   "metadata": {},
   "source": [
    "# Make a map of the dataset"
   ]
  },
  {
   "cell_type": "markdown",
   "metadata": {
    "heading_collapsed": true
   },
   "source": [
    "## utils"
   ]
  },
  {
   "cell_type": "code",
   "execution_count": null,
   "metadata": {
    "hidden": true
   },
   "outputs": [],
   "source": [
    "def compute_representation(representation,frames):\n",
    "    expansions = soap.transform(frames)\n",
    "    return expansions\n",
    "\n",
    "def compute_kernel(zeta, rep1, rep2=None):\n",
    "    if rep2 is None:\n",
    "        kernel = rep1.cosine_kernel_global(zeta)\n",
    "    else:\n",
    "        kernel = rep1.cosine_kernel_global(rep2,zeta)\n",
    "    return kernel"
   ]
  },
  {
   "cell_type": "code",
   "execution_count": null,
   "metadata": {
    "code_folding": [
     0
    ],
    "hidden": true
   },
   "outputs": [],
   "source": [
    "def link_ngl_wdgt_to_ax_pos(ax, pos, ngl_widget):\n",
    "    from matplotlib.widgets import AxesWidget\n",
    "    from scipy.spatial import cKDTree\n",
    "    r\"\"\"\n",
    "    Initial idea for this function comes from @arose, the rest is @gph82 and @clonker\n",
    "    \"\"\"\n",
    "    \n",
    "    kdtree = cKDTree(pos)        \n",
    "    #assert ngl_widget.trajectory_0.n_frames == pos.shape[0]\n",
    "    x, y = pos.T\n",
    "    \n",
    "    lineh = ax.axhline(ax.get_ybound()[0], c=\"black\", ls='--')\n",
    "    linev = ax.axvline(ax.get_xbound()[0], c=\"black\", ls='--')\n",
    "    dot, = ax.plot(pos[0,0],pos[0,1], 'o', c='red', ms=7)\n",
    "\n",
    "    ngl_widget.isClick = False\n",
    "    \n",
    "    def onclick(event):\n",
    "        linev.set_xdata((event.xdata, event.xdata))\n",
    "        lineh.set_ydata((event.ydata, event.ydata))\n",
    "        data = [event.xdata, event.ydata]\n",
    "        _, index = kdtree.query(x=data, k=1)\n",
    "        dot.set_xdata((x[index]))\n",
    "        dot.set_ydata((y[index]))\n",
    "        ngl_widget.isClick = True\n",
    "        ngl_widget.frame = index\n",
    "    \n",
    "    def my_observer(change):\n",
    "        r\"\"\"Here comes the code that you want to execute\n",
    "        \"\"\"\n",
    "        ngl_widget.isClick = False\n",
    "        _idx = change[\"new\"]\n",
    "        try:\n",
    "            dot.set_xdata((x[_idx]))\n",
    "            dot.set_ydata((y[_idx]))            \n",
    "        except IndexError as e:\n",
    "            dot.set_xdata((x[0]))\n",
    "            dot.set_ydata((y[0]))\n",
    "            print(\"caught index error with index %s (new=%s, old=%s)\" % (_idx, change[\"new\"], change[\"old\"]))\n",
    "    \n",
    "    # Connect axes to widget\n",
    "    axes_widget = AxesWidget(ax)\n",
    "    axes_widget.connect_event('button_release_event', onclick)\n",
    "    \n",
    "    # Connect widget to axes\n",
    "    ngl_widget.observe(my_observer, \"frame\", \"change\")"
   ]
  },
  {
   "cell_type": "markdown",
   "metadata": {
    "heading_collapsed": true
   },
   "source": [
    "## make a map with kernel pca projection"
   ]
  },
  {
   "cell_type": "code",
   "execution_count": null,
   "metadata": {
    "hidden": true
   },
   "outputs": [],
   "source": [
    "# Load the small molecules \n",
    "frames = read('./reference_data/small_molecules-1000.xyz',':600')"
   ]
  },
  {
   "cell_type": "code",
   "execution_count": null,
   "metadata": {
    "hidden": true
   },
   "outputs": [],
   "source": [
    "hypers = dict(soap_type=\"PowerSpectrum\",\n",
    "              interaction_cutoff=3.5, \n",
    "              max_radial=6, \n",
    "              max_angular=6, \n",
    "              gaussian_sigma_constant=0.4,\n",
    "              gaussian_sigma_type=\"Constant\",\n",
    "              cutoff_smooth_width=0.5,\n",
    "              )\n",
    "soap = SOAP(**hypers)"
   ]
  },
  {
   "cell_type": "code",
   "execution_count": null,
   "metadata": {
    "hidden": true
   },
   "outputs": [],
   "source": [
    "zeta = 2\n",
    "\n",
    "features = compute_representation(soap, frames)\n",
    "\n",
    "kernel = compute_kernel(zeta,features)"
   ]
  },
  {
   "cell_type": "code",
   "execution_count": null,
   "metadata": {
    "hidden": true
   },
   "outputs": [],
   "source": [
    "from sklearn.decomposition import KernelPCA"
   ]
  },
  {
   "cell_type": "code",
   "execution_count": null,
   "metadata": {
    "hidden": true
   },
   "outputs": [],
   "source": [
    "kpca = KernelPCA(n_components=2,kernel='precomputed')\n",
    "kpca.fit(kernel)"
   ]
  },
  {
   "cell_type": "code",
   "execution_count": null,
   "metadata": {
    "hidden": true
   },
   "outputs": [],
   "source": [
    "X = kpca.transform(kernel)"
   ]
  },
  {
   "cell_type": "code",
   "execution_count": null,
   "metadata": {
    "hidden": true
   },
   "outputs": [],
   "source": [
    "plt.scatter(X[:,0],X[:,1],s=3)"
   ]
  },
  {
   "cell_type": "markdown",
   "metadata": {},
   "source": [
    "## make an interactive map"
   ]
  },
  {
   "cell_type": "code",
   "execution_count": null,
   "metadata": {},
   "outputs": [],
   "source": [
    "# package to visualize the structures in the notebook\n",
    "# https://github.com/arose/nglview#released-version\n",
    "import nglview"
   ]
  },
  {
   "cell_type": "code",
   "execution_count": null,
   "metadata": {},
   "outputs": [],
   "source": [
    "iwdg = nglview.show_asetraj(frames)\n",
    "# set up the visualization\n",
    "iwdg.add_unitcell()\n",
    "iwdg.add_spacefill()\n",
    "iwdg.remove_ball_and_stick()\n",
    "iwdg.camera = 'orthographic'\n",
    "iwdg.parameters = { \"clipDist\": 0 }\n",
    "iwdg.center()\n",
    "iwdg.update_spacefill(radiusType='covalent',\n",
    "                                   scale=0.6,\n",
    "                                   color_scheme='element')\n",
    "iwdg._remote_call('setSize', target='Widget',\n",
    "                               args=['%dpx' % (600,), '%dpx' % (400,)])\n",
    "iwdg.player.delay = 200.0"
   ]
  },
  {
   "cell_type": "code",
   "execution_count": null,
   "metadata": {},
   "outputs": [],
   "source": [
    "link_ngl_wdgt_to_ax_pos(plt.gca(), X, iwdg)\n",
    "plt.scatter(X[:,0],X[:,1],s=3)\n",
    "iwdg"
   ]
  },
  {
   "cell_type": "code",
   "execution_count": null,
   "metadata": {},
   "outputs": [],
   "source": []
  }
 ],
 "metadata": {
  "celltoolbar": "Initialization Cell",
  "kernelspec": {
   "display_name": "py36",
   "language": "python",
   "name": "py36"
  },
  "language_info": {
   "codemirror_mode": {
    "name": "ipython",
    "version": 3
   },
   "file_extension": ".py",
   "mimetype": "text/x-python",
   "name": "python",
   "nbconvert_exporter": "python",
   "pygments_lexer": "ipython3",
   "version": "3.6.8"
  },
  "toc": {
   "base_numbering": 1,
   "nav_menu": {
    "height": "12px",
    "width": "252px"
   },
   "number_sections": true,
   "sideBar": true,
   "skip_h1_title": false,
   "title_cell": "Table of Contents",
   "title_sidebar": "Contents",
   "toc_cell": false,
   "toc_position": {},
   "toc_section_display": "block",
   "toc_window_display": false
  }
 },
 "nbformat": 4,
 "nbformat_minor": 2
}
